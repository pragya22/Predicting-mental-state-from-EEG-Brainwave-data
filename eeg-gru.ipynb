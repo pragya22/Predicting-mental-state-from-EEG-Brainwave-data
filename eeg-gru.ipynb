{
 "cells": [
  {
   "cell_type": "code",
   "execution_count": 1,
   "id": "ce7e3441",
   "metadata": {
    "_cell_guid": "b1076dfc-b9ad-4769-8c92-a6c4dae69d19",
    "_uuid": "8f2839f25d086af736a60e9eeb907d3b93b6e0e5",
    "execution": {
     "iopub.execute_input": "2023-08-04T14:31:30.172963Z",
     "iopub.status.busy": "2023-08-04T14:31:30.172395Z",
     "iopub.status.idle": "2023-08-04T14:31:30.191732Z",
     "shell.execute_reply": "2023-08-04T14:31:30.190824Z"
    },
    "papermill": {
     "duration": 0.034867,
     "end_time": "2023-08-04T14:31:30.194796",
     "exception": false,
     "start_time": "2023-08-04T14:31:30.159929",
     "status": "completed"
    },
    "tags": []
   },
   "outputs": [
    {
     "name": "stdout",
     "output_type": "stream",
     "text": [
      "/kaggle/input/eeg-brainwave-dataset-mental-state/mental-state.csv\n"
     ]
    }
   ],
   "source": [
    "# This Python 3 environment comes with many helpful analytics libraries installed\n",
    "# It is defined by the kaggle/python Docker image: https://github.com/kaggle/docker-python\n",
    "# For example, here's several helpful packages to load\n",
    "\n",
    "import numpy as np # linear algebra\n",
    "import pandas as pd # data processing, CSV file I/O (e.g. pd.read_csv)\n",
    "\n",
    "# Input data files are available in the read-only \"../input/\" directory\n",
    "# For example, running this (by clicking run or pressing Shift+Enter) will list all files under the input directory\n",
    "\n",
    "import os\n",
    "for dirname, _, filenames in os.walk('/kaggle/input'):\n",
    "    for filename in filenames:\n",
    "        print(os.path.join(dirname, filename))\n",
    "\n",
    "# You can write up to 20GB to the current directory (/kaggle/working/) that gets preserved as output when you create a version using \"Save & Run All\" \n",
    "# You can also write temporary files to /kaggle/temp/, but they won't be saved outside of the current session"
   ]
  },
  {
   "cell_type": "code",
   "execution_count": 2,
   "id": "ee358f52",
   "metadata": {
    "execution": {
     "iopub.execute_input": "2023-08-04T14:31:30.210611Z",
     "iopub.status.busy": "2023-08-04T14:31:30.210163Z",
     "iopub.status.idle": "2023-08-04T14:31:39.392769Z",
     "shell.execute_reply": "2023-08-04T14:31:39.391410Z"
    },
    "papermill": {
     "duration": 9.193741,
     "end_time": "2023-08-04T14:31:39.395701",
     "exception": false,
     "start_time": "2023-08-04T14:31:30.201960",
     "status": "completed"
    },
    "tags": []
   },
   "outputs": [],
   "source": [
    "import numpy as np\n",
    "import pandas as pd\n",
    "\n",
    "import matplotlib.pyplot as plt\n",
    "import seaborn as sns\n",
    "from sklearn.model_selection import train_test_split\n",
    "\n",
    "import tensorflow as tf\n",
    "\n",
    "from sklearn.metrics import confusion_matrix, classification_report\n",
    "\n",
    "\n"
   ]
  },
  {
   "cell_type": "code",
   "execution_count": 3,
   "id": "e28accc1",
   "metadata": {
    "execution": {
     "iopub.execute_input": "2023-08-04T14:31:39.411848Z",
     "iopub.status.busy": "2023-08-04T14:31:39.411010Z",
     "iopub.status.idle": "2023-08-04T14:31:40.932433Z",
     "shell.execute_reply": "2023-08-04T14:31:40.931075Z"
    },
    "papermill": {
     "duration": 1.532811,
     "end_time": "2023-08-04T14:31:40.935505",
     "exception": false,
     "start_time": "2023-08-04T14:31:39.402694",
     "status": "completed"
    },
    "tags": []
   },
   "outputs": [],
   "source": [
    "data = pd.read_csv('/kaggle/input/eeg-brainwave-dataset-mental-state/mental-state.csv')"
   ]
  },
  {
   "cell_type": "code",
   "execution_count": 4,
   "id": "c8eeab32",
   "metadata": {
    "execution": {
     "iopub.execute_input": "2023-08-04T14:31:40.950916Z",
     "iopub.status.busy": "2023-08-04T14:31:40.950457Z",
     "iopub.status.idle": "2023-08-04T14:31:43.484746Z",
     "shell.execute_reply": "2023-08-04T14:31:43.483457Z"
    },
    "papermill": {
     "duration": 2.54517,
     "end_time": "2023-08-04T14:31:43.487578",
     "exception": false,
     "start_time": "2023-08-04T14:31:40.942408",
     "status": "completed"
    },
    "tags": []
   },
   "outputs": [
    {
     "data": {
      "text/html": [
       "<div>\n",
       "<style scoped>\n",
       "    .dataframe tbody tr th:only-of-type {\n",
       "        vertical-align: middle;\n",
       "    }\n",
       "\n",
       "    .dataframe tbody tr th {\n",
       "        vertical-align: top;\n",
       "    }\n",
       "\n",
       "    .dataframe thead th {\n",
       "        text-align: right;\n",
       "    }\n",
       "</style>\n",
       "<table border=\"1\" class=\"dataframe\">\n",
       "  <thead>\n",
       "    <tr style=\"text-align: right;\">\n",
       "      <th></th>\n",
       "      <th>count</th>\n",
       "      <th>mean</th>\n",
       "      <th>std</th>\n",
       "      <th>min</th>\n",
       "      <th>25%</th>\n",
       "      <th>50%</th>\n",
       "      <th>75%</th>\n",
       "      <th>max</th>\n",
       "    </tr>\n",
       "  </thead>\n",
       "  <tbody>\n",
       "    <tr>\n",
       "      <th>lag1_mean_0</th>\n",
       "      <td>2479.0</td>\n",
       "      <td>23.584351</td>\n",
       "      <td>10.543938</td>\n",
       "      <td>-35.224945</td>\n",
       "      <td>18.732076</td>\n",
       "      <td>23.553828</td>\n",
       "      <td>27.759551</td>\n",
       "      <td>92.313766</td>\n",
       "    </tr>\n",
       "    <tr>\n",
       "      <th>lag1_mean_1</th>\n",
       "      <td>2479.0</td>\n",
       "      <td>27.060411</td>\n",
       "      <td>24.252348</td>\n",
       "      <td>-369.150109</td>\n",
       "      <td>21.328936</td>\n",
       "      <td>27.574535</td>\n",
       "      <td>32.247539</td>\n",
       "      <td>408.180215</td>\n",
       "    </tr>\n",
       "    <tr>\n",
       "      <th>lag1_mean_2</th>\n",
       "      <td>2479.0</td>\n",
       "      <td>20.452931</td>\n",
       "      <td>72.104439</td>\n",
       "      <td>-579.490660</td>\n",
       "      <td>17.124174</td>\n",
       "      <td>25.217098</td>\n",
       "      <td>30.746496</td>\n",
       "      <td>591.014113</td>\n",
       "    </tr>\n",
       "    <tr>\n",
       "      <th>lag1_mean_3</th>\n",
       "      <td>2479.0</td>\n",
       "      <td>11.526044</td>\n",
       "      <td>19.196870</td>\n",
       "      <td>-251.495367</td>\n",
       "      <td>6.541236</td>\n",
       "      <td>15.144375</td>\n",
       "      <td>20.589852</td>\n",
       "      <td>69.694520</td>\n",
       "    </tr>\n",
       "    <tr>\n",
       "      <th>lag1_mean_d_h2h1_0</th>\n",
       "      <td>2479.0</td>\n",
       "      <td>0.014449</td>\n",
       "      <td>13.382998</td>\n",
       "      <td>-75.143730</td>\n",
       "      <td>-4.647636</td>\n",
       "      <td>-0.140909</td>\n",
       "      <td>3.965898</td>\n",
       "      <td>104.963158</td>\n",
       "    </tr>\n",
       "    <tr>\n",
       "      <th>...</th>\n",
       "      <td>...</td>\n",
       "      <td>...</td>\n",
       "      <td>...</td>\n",
       "      <td>...</td>\n",
       "      <td>...</td>\n",
       "      <td>...</td>\n",
       "      <td>...</td>\n",
       "      <td>...</td>\n",
       "    </tr>\n",
       "    <tr>\n",
       "      <th>freq_720_3</th>\n",
       "      <td>2479.0</td>\n",
       "      <td>0.007998</td>\n",
       "      <td>0.007547</td>\n",
       "      <td>0.000041</td>\n",
       "      <td>0.002034</td>\n",
       "      <td>0.006005</td>\n",
       "      <td>0.011406</td>\n",
       "      <td>0.054104</td>\n",
       "    </tr>\n",
       "    <tr>\n",
       "      <th>freq_730_3</th>\n",
       "      <td>2479.0</td>\n",
       "      <td>0.007449</td>\n",
       "      <td>0.006937</td>\n",
       "      <td>0.000008</td>\n",
       "      <td>0.001985</td>\n",
       "      <td>0.005717</td>\n",
       "      <td>0.010768</td>\n",
       "      <td>0.060196</td>\n",
       "    </tr>\n",
       "    <tr>\n",
       "      <th>freq_740_3</th>\n",
       "      <td>2479.0</td>\n",
       "      <td>0.007307</td>\n",
       "      <td>0.007379</td>\n",
       "      <td>0.000036</td>\n",
       "      <td>0.002042</td>\n",
       "      <td>0.005300</td>\n",
       "      <td>0.010208</td>\n",
       "      <td>0.134037</td>\n",
       "    </tr>\n",
       "    <tr>\n",
       "      <th>freq_750_3</th>\n",
       "      <td>2479.0</td>\n",
       "      <td>0.007382</td>\n",
       "      <td>0.007276</td>\n",
       "      <td>0.000048</td>\n",
       "      <td>0.001964</td>\n",
       "      <td>0.005315</td>\n",
       "      <td>0.010330</td>\n",
       "      <td>0.071582</td>\n",
       "    </tr>\n",
       "    <tr>\n",
       "      <th>Label</th>\n",
       "      <td>2479.0</td>\n",
       "      <td>1.004437</td>\n",
       "      <td>0.815743</td>\n",
       "      <td>0.000000</td>\n",
       "      <td>0.000000</td>\n",
       "      <td>1.000000</td>\n",
       "      <td>2.000000</td>\n",
       "      <td>2.000000</td>\n",
       "    </tr>\n",
       "  </tbody>\n",
       "</table>\n",
       "<p>989 rows × 8 columns</p>\n",
       "</div>"
      ],
      "text/plain": [
       "                     count       mean        std         min        25%  \\\n",
       "lag1_mean_0         2479.0  23.584351  10.543938  -35.224945  18.732076   \n",
       "lag1_mean_1         2479.0  27.060411  24.252348 -369.150109  21.328936   \n",
       "lag1_mean_2         2479.0  20.452931  72.104439 -579.490660  17.124174   \n",
       "lag1_mean_3         2479.0  11.526044  19.196870 -251.495367   6.541236   \n",
       "lag1_mean_d_h2h1_0  2479.0   0.014449  13.382998  -75.143730  -4.647636   \n",
       "...                    ...        ...        ...         ...        ...   \n",
       "freq_720_3          2479.0   0.007998   0.007547    0.000041   0.002034   \n",
       "freq_730_3          2479.0   0.007449   0.006937    0.000008   0.001985   \n",
       "freq_740_3          2479.0   0.007307   0.007379    0.000036   0.002042   \n",
       "freq_750_3          2479.0   0.007382   0.007276    0.000048   0.001964   \n",
       "Label               2479.0   1.004437   0.815743    0.000000   0.000000   \n",
       "\n",
       "                          50%        75%         max  \n",
       "lag1_mean_0         23.553828  27.759551   92.313766  \n",
       "lag1_mean_1         27.574535  32.247539  408.180215  \n",
       "lag1_mean_2         25.217098  30.746496  591.014113  \n",
       "lag1_mean_3         15.144375  20.589852   69.694520  \n",
       "lag1_mean_d_h2h1_0  -0.140909   3.965898  104.963158  \n",
       "...                       ...        ...         ...  \n",
       "freq_720_3           0.006005   0.011406    0.054104  \n",
       "freq_730_3           0.005717   0.010768    0.060196  \n",
       "freq_740_3           0.005300   0.010208    0.134037  \n",
       "freq_750_3           0.005315   0.010330    0.071582  \n",
       "Label                1.000000   2.000000    2.000000  \n",
       "\n",
       "[989 rows x 8 columns]"
      ]
     },
     "execution_count": 4,
     "metadata": {},
     "output_type": "execute_result"
    }
   ],
   "source": [
    "data.describe(include='all').T"
   ]
  },
  {
   "cell_type": "code",
   "execution_count": 5,
   "id": "80ef265e",
   "metadata": {
    "execution": {
     "iopub.execute_input": "2023-08-04T14:31:43.503504Z",
     "iopub.status.busy": "2023-08-04T14:31:43.503049Z",
     "iopub.status.idle": "2023-08-04T14:31:43.516942Z",
     "shell.execute_reply": "2023-08-04T14:31:43.515739Z"
    },
    "papermill": {
     "duration": 0.024812,
     "end_time": "2023-08-04T14:31:43.519511",
     "exception": false,
     "start_time": "2023-08-04T14:31:43.494699",
     "status": "completed"
    },
    "tags": []
   },
   "outputs": [
    {
     "data": {
      "text/plain": [
       "2.0    830\n",
       "1.0    830\n",
       "0.0    819\n",
       "Name: Label, dtype: int64"
      ]
     },
     "execution_count": 5,
     "metadata": {},
     "output_type": "execute_result"
    }
   ],
   "source": [
    "data['Label'].value_counts()"
   ]
  },
  {
   "cell_type": "code",
   "execution_count": 6,
   "id": "b0ec0a53",
   "metadata": {
    "execution": {
     "iopub.execute_input": "2023-08-04T14:31:43.536559Z",
     "iopub.status.busy": "2023-08-04T14:31:43.536070Z",
     "iopub.status.idle": "2023-08-04T14:31:43.541442Z",
     "shell.execute_reply": "2023-08-04T14:31:43.540504Z"
    },
    "papermill": {
     "duration": 0.016551,
     "end_time": "2023-08-04T14:31:43.543652",
     "exception": false,
     "start_time": "2023-08-04T14:31:43.527101",
     "status": "completed"
    },
    "tags": []
   },
   "outputs": [],
   "source": [
    "label_mapping = {'0.0': 0, '1.0': 1, '2.0': 2}"
   ]
  },
  {
   "cell_type": "code",
   "execution_count": 7,
   "id": "57d9708e",
   "metadata": {
    "execution": {
     "iopub.execute_input": "2023-08-04T14:31:43.561544Z",
     "iopub.status.busy": "2023-08-04T14:31:43.561069Z",
     "iopub.status.idle": "2023-08-04T14:31:43.569182Z",
     "shell.execute_reply": "2023-08-04T14:31:43.567768Z"
    },
    "papermill": {
     "duration": 0.020761,
     "end_time": "2023-08-04T14:31:43.571655",
     "exception": false,
     "start_time": "2023-08-04T14:31:43.550894",
     "status": "completed"
    },
    "tags": []
   },
   "outputs": [],
   "source": [
    "def preprocess_inputs(df):\n",
    "    df = df.copy()\n",
    "    \n",
    "    df['Label'] = df['Label'].replace(label_mapping)\n",
    "    \n",
    "    y = df['Label'].copy()\n",
    "    X = df.drop('Label', axis=1).copy()\n",
    "    \n",
    "    X_train, X_test, y_train, y_test = train_test_split(X, y, train_size=0.7, random_state=123)\n",
    "    \n",
    "    return X_train, X_test, y_train, y_test"
   ]
  },
  {
   "cell_type": "code",
   "execution_count": 8,
   "id": "6cad368c",
   "metadata": {
    "execution": {
     "iopub.execute_input": "2023-08-04T14:31:43.588134Z",
     "iopub.status.busy": "2023-08-04T14:31:43.587699Z",
     "iopub.status.idle": "2023-08-04T14:31:43.646963Z",
     "shell.execute_reply": "2023-08-04T14:31:43.645641Z"
    },
    "papermill": {
     "duration": 0.071076,
     "end_time": "2023-08-04T14:31:43.649989",
     "exception": false,
     "start_time": "2023-08-04T14:31:43.578913",
     "status": "completed"
    },
    "tags": []
   },
   "outputs": [],
   "source": [
    "X_train, X_test, y_train, y_test = preprocess_inputs(data)"
   ]
  },
  {
   "cell_type": "code",
   "execution_count": 9,
   "id": "143dded1",
   "metadata": {
    "execution": {
     "iopub.execute_input": "2023-08-04T14:31:43.666288Z",
     "iopub.status.busy": "2023-08-04T14:31:43.665826Z",
     "iopub.status.idle": "2023-08-04T14:31:43.702922Z",
     "shell.execute_reply": "2023-08-04T14:31:43.701644Z"
    },
    "papermill": {
     "duration": 0.04822,
     "end_time": "2023-08-04T14:31:43.705527",
     "exception": false,
     "start_time": "2023-08-04T14:31:43.657307",
     "status": "completed"
    },
    "tags": []
   },
   "outputs": [
    {
     "data": {
      "text/html": [
       "<div>\n",
       "<style scoped>\n",
       "    .dataframe tbody tr th:only-of-type {\n",
       "        vertical-align: middle;\n",
       "    }\n",
       "\n",
       "    .dataframe tbody tr th {\n",
       "        vertical-align: top;\n",
       "    }\n",
       "\n",
       "    .dataframe thead th {\n",
       "        text-align: right;\n",
       "    }\n",
       "</style>\n",
       "<table border=\"1\" class=\"dataframe\">\n",
       "  <thead>\n",
       "    <tr style=\"text-align: right;\">\n",
       "      <th></th>\n",
       "      <th>lag1_mean_0</th>\n",
       "      <th>lag1_mean_1</th>\n",
       "      <th>lag1_mean_2</th>\n",
       "      <th>lag1_mean_3</th>\n",
       "      <th>lag1_mean_d_h2h1_0</th>\n",
       "      <th>lag1_mean_d_h2h1_1</th>\n",
       "      <th>lag1_mean_d_h2h1_2</th>\n",
       "      <th>lag1_mean_d_h2h1_3</th>\n",
       "      <th>lag1_mean_q1_0</th>\n",
       "      <th>lag1_mean_q1_1</th>\n",
       "      <th>...</th>\n",
       "      <th>freq_659_3</th>\n",
       "      <th>freq_669_3</th>\n",
       "      <th>freq_679_3</th>\n",
       "      <th>freq_689_3</th>\n",
       "      <th>freq_699_3</th>\n",
       "      <th>freq_709_3</th>\n",
       "      <th>freq_720_3</th>\n",
       "      <th>freq_730_3</th>\n",
       "      <th>freq_740_3</th>\n",
       "      <th>freq_750_3</th>\n",
       "    </tr>\n",
       "  </thead>\n",
       "  <tbody>\n",
       "    <tr>\n",
       "      <th>1228</th>\n",
       "      <td>18.875113</td>\n",
       "      <td>109.092691</td>\n",
       "      <td>27.225469</td>\n",
       "      <td>21.305082</td>\n",
       "      <td>6.964365</td>\n",
       "      <td>-15.954065</td>\n",
       "      <td>1.519151</td>\n",
       "      <td>7.142496</td>\n",
       "      <td>9.836726</td>\n",
       "      <td>183.310949</td>\n",
       "      <td>...</td>\n",
       "      <td>0.001374</td>\n",
       "      <td>0.000885</td>\n",
       "      <td>0.001759</td>\n",
       "      <td>0.001849</td>\n",
       "      <td>0.003055</td>\n",
       "      <td>0.002243</td>\n",
       "      <td>0.001344</td>\n",
       "      <td>0.002476</td>\n",
       "      <td>0.001072</td>\n",
       "      <td>0.001993</td>\n",
       "    </tr>\n",
       "    <tr>\n",
       "      <th>1786</th>\n",
       "      <td>25.259023</td>\n",
       "      <td>33.327125</td>\n",
       "      <td>65.202727</td>\n",
       "      <td>20.902660</td>\n",
       "      <td>-5.224164</td>\n",
       "      <td>-1.682917</td>\n",
       "      <td>52.831583</td>\n",
       "      <td>3.791199</td>\n",
       "      <td>25.982024</td>\n",
       "      <td>33.077807</td>\n",
       "      <td>...</td>\n",
       "      <td>0.001785</td>\n",
       "      <td>0.000964</td>\n",
       "      <td>0.000331</td>\n",
       "      <td>0.000338</td>\n",
       "      <td>0.000653</td>\n",
       "      <td>0.001732</td>\n",
       "      <td>0.001741</td>\n",
       "      <td>0.001418</td>\n",
       "      <td>0.001131</td>\n",
       "      <td>0.000422</td>\n",
       "    </tr>\n",
       "    <tr>\n",
       "      <th>209</th>\n",
       "      <td>23.839953</td>\n",
       "      <td>-4.259078</td>\n",
       "      <td>-229.188941</td>\n",
       "      <td>18.785473</td>\n",
       "      <td>-2.485715</td>\n",
       "      <td>-134.148117</td>\n",
       "      <td>-218.643345</td>\n",
       "      <td>-4.466033</td>\n",
       "      <td>24.421032</td>\n",
       "      <td>122.103492</td>\n",
       "      <td>...</td>\n",
       "      <td>0.002227</td>\n",
       "      <td>0.000935</td>\n",
       "      <td>0.000849</td>\n",
       "      <td>0.002228</td>\n",
       "      <td>0.001262</td>\n",
       "      <td>0.000914</td>\n",
       "      <td>0.000905</td>\n",
       "      <td>0.000195</td>\n",
       "      <td>0.002664</td>\n",
       "      <td>0.000521</td>\n",
       "    </tr>\n",
       "    <tr>\n",
       "      <th>559</th>\n",
       "      <td>22.575363</td>\n",
       "      <td>25.228504</td>\n",
       "      <td>28.747578</td>\n",
       "      <td>15.377023</td>\n",
       "      <td>-0.500223</td>\n",
       "      <td>1.523311</td>\n",
       "      <td>-1.672705</td>\n",
       "      <td>0.148657</td>\n",
       "      <td>23.646387</td>\n",
       "      <td>25.656641</td>\n",
       "      <td>...</td>\n",
       "      <td>0.010222</td>\n",
       "      <td>0.008971</td>\n",
       "      <td>0.006954</td>\n",
       "      <td>0.006803</td>\n",
       "      <td>0.004954</td>\n",
       "      <td>0.004878</td>\n",
       "      <td>0.015575</td>\n",
       "      <td>0.008294</td>\n",
       "      <td>0.006240</td>\n",
       "      <td>0.005078</td>\n",
       "    </tr>\n",
       "    <tr>\n",
       "      <th>1984</th>\n",
       "      <td>40.058117</td>\n",
       "      <td>31.555164</td>\n",
       "      <td>-21.034246</td>\n",
       "      <td>34.946457</td>\n",
       "      <td>-23.371946</td>\n",
       "      <td>-1.930462</td>\n",
       "      <td>-148.455850</td>\n",
       "      <td>-22.091629</td>\n",
       "      <td>75.446352</td>\n",
       "      <td>31.389344</td>\n",
       "      <td>...</td>\n",
       "      <td>0.000105</td>\n",
       "      <td>0.000074</td>\n",
       "      <td>0.000048</td>\n",
       "      <td>0.000055</td>\n",
       "      <td>0.001028</td>\n",
       "      <td>0.000603</td>\n",
       "      <td>0.000446</td>\n",
       "      <td>0.000728</td>\n",
       "      <td>0.000142</td>\n",
       "      <td>0.000411</td>\n",
       "    </tr>\n",
       "    <tr>\n",
       "      <th>...</th>\n",
       "      <td>...</td>\n",
       "      <td>...</td>\n",
       "      <td>...</td>\n",
       "      <td>...</td>\n",
       "      <td>...</td>\n",
       "      <td>...</td>\n",
       "      <td>...</td>\n",
       "      <td>...</td>\n",
       "      <td>...</td>\n",
       "      <td>...</td>\n",
       "      <td>...</td>\n",
       "      <td>...</td>\n",
       "      <td>...</td>\n",
       "      <td>...</td>\n",
       "      <td>...</td>\n",
       "      <td>...</td>\n",
       "      <td>...</td>\n",
       "      <td>...</td>\n",
       "      <td>...</td>\n",
       "      <td>...</td>\n",
       "      <td>...</td>\n",
       "    </tr>\n",
       "    <tr>\n",
       "      <th>1147</th>\n",
       "      <td>21.083816</td>\n",
       "      <td>19.895563</td>\n",
       "      <td>18.968566</td>\n",
       "      <td>20.132062</td>\n",
       "      <td>8.458956</td>\n",
       "      <td>-6.960552</td>\n",
       "      <td>8.420081</td>\n",
       "      <td>13.663810</td>\n",
       "      <td>-20.390547</td>\n",
       "      <td>26.949771</td>\n",
       "      <td>...</td>\n",
       "      <td>0.024027</td>\n",
       "      <td>0.007333</td>\n",
       "      <td>0.014824</td>\n",
       "      <td>0.014703</td>\n",
       "      <td>0.011312</td>\n",
       "      <td>0.017288</td>\n",
       "      <td>0.011776</td>\n",
       "      <td>0.018456</td>\n",
       "      <td>0.004682</td>\n",
       "      <td>0.019357</td>\n",
       "    </tr>\n",
       "    <tr>\n",
       "      <th>2154</th>\n",
       "      <td>23.998289</td>\n",
       "      <td>29.361734</td>\n",
       "      <td>25.037762</td>\n",
       "      <td>-4.255297</td>\n",
       "      <td>-1.227794</td>\n",
       "      <td>1.397922</td>\n",
       "      <td>-9.106748</td>\n",
       "      <td>14.402332</td>\n",
       "      <td>26.220914</td>\n",
       "      <td>26.643806</td>\n",
       "      <td>...</td>\n",
       "      <td>0.002983</td>\n",
       "      <td>0.013251</td>\n",
       "      <td>0.012160</td>\n",
       "      <td>0.012330</td>\n",
       "      <td>0.009878</td>\n",
       "      <td>0.012761</td>\n",
       "      <td>0.019145</td>\n",
       "      <td>0.016046</td>\n",
       "      <td>0.007885</td>\n",
       "      <td>0.008731</td>\n",
       "    </tr>\n",
       "    <tr>\n",
       "      <th>1766</th>\n",
       "      <td>17.866137</td>\n",
       "      <td>20.019543</td>\n",
       "      <td>30.679723</td>\n",
       "      <td>12.689574</td>\n",
       "      <td>-1.507275</td>\n",
       "      <td>8.348476</td>\n",
       "      <td>-0.025243</td>\n",
       "      <td>-1.803082</td>\n",
       "      <td>23.460320</td>\n",
       "      <td>0.128398</td>\n",
       "      <td>...</td>\n",
       "      <td>0.013355</td>\n",
       "      <td>0.004366</td>\n",
       "      <td>0.007712</td>\n",
       "      <td>0.004192</td>\n",
       "      <td>0.009036</td>\n",
       "      <td>0.010538</td>\n",
       "      <td>0.005273</td>\n",
       "      <td>0.004098</td>\n",
       "      <td>0.002880</td>\n",
       "      <td>0.010289</td>\n",
       "    </tr>\n",
       "    <tr>\n",
       "      <th>1122</th>\n",
       "      <td>27.477242</td>\n",
       "      <td>24.162312</td>\n",
       "      <td>18.798824</td>\n",
       "      <td>21.366125</td>\n",
       "      <td>-4.486187</td>\n",
       "      <td>1.581129</td>\n",
       "      <td>4.359819</td>\n",
       "      <td>-4.935022</td>\n",
       "      <td>30.235438</td>\n",
       "      <td>22.084650</td>\n",
       "      <td>...</td>\n",
       "      <td>0.020998</td>\n",
       "      <td>0.009106</td>\n",
       "      <td>0.005606</td>\n",
       "      <td>0.006176</td>\n",
       "      <td>0.012413</td>\n",
       "      <td>0.005869</td>\n",
       "      <td>0.010038</td>\n",
       "      <td>0.009971</td>\n",
       "      <td>0.007039</td>\n",
       "      <td>0.008478</td>\n",
       "    </tr>\n",
       "    <tr>\n",
       "      <th>1346</th>\n",
       "      <td>13.551746</td>\n",
       "      <td>19.096414</td>\n",
       "      <td>24.660098</td>\n",
       "      <td>11.589043</td>\n",
       "      <td>1.920960</td>\n",
       "      <td>-0.067947</td>\n",
       "      <td>-1.565299</td>\n",
       "      <td>5.323528</td>\n",
       "      <td>15.789542</td>\n",
       "      <td>21.087845</td>\n",
       "      <td>...</td>\n",
       "      <td>0.016660</td>\n",
       "      <td>0.015005</td>\n",
       "      <td>0.021702</td>\n",
       "      <td>0.033919</td>\n",
       "      <td>0.026901</td>\n",
       "      <td>0.025058</td>\n",
       "      <td>0.029690</td>\n",
       "      <td>0.031257</td>\n",
       "      <td>0.019110</td>\n",
       "      <td>0.022664</td>\n",
       "    </tr>\n",
       "  </tbody>\n",
       "</table>\n",
       "<p>1735 rows × 988 columns</p>\n",
       "</div>"
      ],
      "text/plain": [
       "      lag1_mean_0  lag1_mean_1  lag1_mean_2  lag1_mean_3  lag1_mean_d_h2h1_0  \\\n",
       "1228    18.875113   109.092691    27.225469    21.305082            6.964365   \n",
       "1786    25.259023    33.327125    65.202727    20.902660           -5.224164   \n",
       "209     23.839953    -4.259078  -229.188941    18.785473           -2.485715   \n",
       "559     22.575363    25.228504    28.747578    15.377023           -0.500223   \n",
       "1984    40.058117    31.555164   -21.034246    34.946457          -23.371946   \n",
       "...           ...          ...          ...          ...                 ...   \n",
       "1147    21.083816    19.895563    18.968566    20.132062            8.458956   \n",
       "2154    23.998289    29.361734    25.037762    -4.255297           -1.227794   \n",
       "1766    17.866137    20.019543    30.679723    12.689574           -1.507275   \n",
       "1122    27.477242    24.162312    18.798824    21.366125           -4.486187   \n",
       "1346    13.551746    19.096414    24.660098    11.589043            1.920960   \n",
       "\n",
       "      lag1_mean_d_h2h1_1  lag1_mean_d_h2h1_2  lag1_mean_d_h2h1_3  \\\n",
       "1228          -15.954065            1.519151            7.142496   \n",
       "1786           -1.682917           52.831583            3.791199   \n",
       "209          -134.148117         -218.643345           -4.466033   \n",
       "559             1.523311           -1.672705            0.148657   \n",
       "1984           -1.930462         -148.455850          -22.091629   \n",
       "...                  ...                 ...                 ...   \n",
       "1147           -6.960552            8.420081           13.663810   \n",
       "2154            1.397922           -9.106748           14.402332   \n",
       "1766            8.348476           -0.025243           -1.803082   \n",
       "1122            1.581129            4.359819           -4.935022   \n",
       "1346           -0.067947           -1.565299            5.323528   \n",
       "\n",
       "      lag1_mean_q1_0  lag1_mean_q1_1  ...  freq_659_3  freq_669_3  freq_679_3  \\\n",
       "1228        9.836726      183.310949  ...    0.001374    0.000885    0.001759   \n",
       "1786       25.982024       33.077807  ...    0.001785    0.000964    0.000331   \n",
       "209        24.421032      122.103492  ...    0.002227    0.000935    0.000849   \n",
       "559        23.646387       25.656641  ...    0.010222    0.008971    0.006954   \n",
       "1984       75.446352       31.389344  ...    0.000105    0.000074    0.000048   \n",
       "...              ...             ...  ...         ...         ...         ...   \n",
       "1147      -20.390547       26.949771  ...    0.024027    0.007333    0.014824   \n",
       "2154       26.220914       26.643806  ...    0.002983    0.013251    0.012160   \n",
       "1766       23.460320        0.128398  ...    0.013355    0.004366    0.007712   \n",
       "1122       30.235438       22.084650  ...    0.020998    0.009106    0.005606   \n",
       "1346       15.789542       21.087845  ...    0.016660    0.015005    0.021702   \n",
       "\n",
       "      freq_689_3  freq_699_3  freq_709_3  freq_720_3  freq_730_3  freq_740_3  \\\n",
       "1228    0.001849    0.003055    0.002243    0.001344    0.002476    0.001072   \n",
       "1786    0.000338    0.000653    0.001732    0.001741    0.001418    0.001131   \n",
       "209     0.002228    0.001262    0.000914    0.000905    0.000195    0.002664   \n",
       "559     0.006803    0.004954    0.004878    0.015575    0.008294    0.006240   \n",
       "1984    0.000055    0.001028    0.000603    0.000446    0.000728    0.000142   \n",
       "...          ...         ...         ...         ...         ...         ...   \n",
       "1147    0.014703    0.011312    0.017288    0.011776    0.018456    0.004682   \n",
       "2154    0.012330    0.009878    0.012761    0.019145    0.016046    0.007885   \n",
       "1766    0.004192    0.009036    0.010538    0.005273    0.004098    0.002880   \n",
       "1122    0.006176    0.012413    0.005869    0.010038    0.009971    0.007039   \n",
       "1346    0.033919    0.026901    0.025058    0.029690    0.031257    0.019110   \n",
       "\n",
       "      freq_750_3  \n",
       "1228    0.001993  \n",
       "1786    0.000422  \n",
       "209     0.000521  \n",
       "559     0.005078  \n",
       "1984    0.000411  \n",
       "...          ...  \n",
       "1147    0.019357  \n",
       "2154    0.008731  \n",
       "1766    0.010289  \n",
       "1122    0.008478  \n",
       "1346    0.022664  \n",
       "\n",
       "[1735 rows x 988 columns]"
      ]
     },
     "execution_count": 9,
     "metadata": {},
     "output_type": "execute_result"
    }
   ],
   "source": [
    "X_train"
   ]
  },
  {
   "cell_type": "code",
   "execution_count": 10,
   "id": "8b8b82c2",
   "metadata": {
    "execution": {
     "iopub.execute_input": "2023-08-04T14:31:43.725435Z",
     "iopub.status.busy": "2023-08-04T14:31:43.723051Z",
     "iopub.status.idle": "2023-08-04T14:31:43.732531Z",
     "shell.execute_reply": "2023-08-04T14:31:43.731165Z"
    },
    "papermill": {
     "duration": 0.021742,
     "end_time": "2023-08-04T14:31:43.735484",
     "exception": false,
     "start_time": "2023-08-04T14:31:43.713742",
     "status": "completed"
    },
    "tags": []
   },
   "outputs": [
    {
     "data": {
      "text/plain": [
       "988"
      ]
     },
     "execution_count": 10,
     "metadata": {},
     "output_type": "execute_result"
    }
   ],
   "source": [
    "X_train.shape[1]"
   ]
  },
  {
   "cell_type": "code",
   "execution_count": 11,
   "id": "00741792",
   "metadata": {
    "execution": {
     "iopub.execute_input": "2023-08-04T14:31:43.755081Z",
     "iopub.status.busy": "2023-08-04T14:31:43.752919Z",
     "iopub.status.idle": "2023-08-04T14:31:44.516925Z",
     "shell.execute_reply": "2023-08-04T14:31:44.514715Z"
    },
    "papermill": {
     "duration": 0.785966,
     "end_time": "2023-08-04T14:31:44.529475",
     "exception": false,
     "start_time": "2023-08-04T14:31:43.743509",
     "status": "completed"
    },
    "tags": []
   },
   "outputs": [
    {
     "name": "stdout",
     "output_type": "stream",
     "text": [
      "Model: \"model\"\n",
      "_________________________________________________________________\n",
      " Layer (type)                Output Shape              Param #   \n",
      "=================================================================\n",
      " input_1 (InputLayer)        [(None, 988)]             0         \n",
      "                                                                 \n",
      " tf.expand_dims (TFOpLambda)  (None, 988, 1)           0         \n",
      "                                                                 \n",
      " gru (GRU)                   (None, 988, 256)          198912    \n",
      "                                                                 \n",
      " gru_1 (GRU)                 (None, 988, 256)          394752    \n",
      "                                                                 \n",
      " flatten (Flatten)           (None, 252928)            0         \n",
      "                                                                 \n",
      " dense_1 (Dense)             (None, 3)                 758787    \n",
      "                                                                 \n",
      "=================================================================\n",
      "Total params: 1,352,451\n",
      "Trainable params: 1,352,451\n",
      "Non-trainable params: 0\n",
      "_________________________________________________________________\n",
      "None\n"
     ]
    }
   ],
   "source": [
    "inputs = tf.keras.Input(shape=(X_train.shape[1],))\n",
    "\n",
    "expand_dims = tf.expand_dims(inputs, axis=2)\n",
    "x = tf.keras.layers.Dense(64, activation='relu')(inputs)\n",
    "gru = tf.keras.layers.GRU(256, return_sequences=True)(expand_dims)\n",
    "gru = tf.keras.layers.GRU(256, return_sequences=True)(gru)\n",
    "flatten = tf.keras.layers.Flatten()(gru)\n",
    "\n",
    "outputs = tf.keras.layers.Dense(3, activation='softmax')(flatten)\n",
    "\n",
    "\n",
    "model = tf.keras.Model(inputs=inputs, outputs=outputs)\n",
    "print(model.summary())"
   ]
  },
  {
   "cell_type": "code",
   "execution_count": 12,
   "id": "8b29da9b",
   "metadata": {
    "execution": {
     "iopub.execute_input": "2023-08-04T14:31:44.552455Z",
     "iopub.status.busy": "2023-08-04T14:31:44.552005Z",
     "iopub.status.idle": "2023-08-04T14:31:44.570012Z",
     "shell.execute_reply": "2023-08-04T14:31:44.568867Z"
    },
    "papermill": {
     "duration": 0.033157,
     "end_time": "2023-08-04T14:31:44.572997",
     "exception": false,
     "start_time": "2023-08-04T14:31:44.539840",
     "status": "completed"
    },
    "tags": []
   },
   "outputs": [],
   "source": [
    "model.compile(\n",
    "    optimizer='adam',\n",
    "    loss='sparse_categorical_crossentropy',\n",
    "    metrics=['accuracy']\n",
    ")"
   ]
  },
  {
   "cell_type": "code",
   "execution_count": 13,
   "id": "fd9cf4aa",
   "metadata": {
    "execution": {
     "iopub.execute_input": "2023-08-04T14:31:44.595234Z",
     "iopub.status.busy": "2023-08-04T14:31:44.594809Z",
     "iopub.status.idle": "2023-08-04T15:03:09.697663Z",
     "shell.execute_reply": "2023-08-04T15:03:09.696714Z"
    },
    "papermill": {
     "duration": 1885.17173,
     "end_time": "2023-08-04T15:03:09.754979",
     "exception": false,
     "start_time": "2023-08-04T14:31:44.583249",
     "status": "completed"
    },
    "tags": []
   },
   "outputs": [
    {
     "name": "stdout",
     "output_type": "stream",
     "text": [
      "Epoch 1/50\n",
      "44/44 [==============================] - 178s 4s/step - loss: 1.3960 - accuracy: 0.6895 - val_loss: 0.3403 - val_accuracy: 0.9020\n",
      "Epoch 2/50\n",
      "44/44 [==============================] - 172s 4s/step - loss: 0.2912 - accuracy: 0.8768 - val_loss: 0.2869 - val_accuracy: 0.9107\n",
      "Epoch 3/50\n",
      "44/44 [==============================] - 171s 4s/step - loss: 0.1752 - accuracy: 0.9352 - val_loss: 0.2429 - val_accuracy: 0.9251\n",
      "Epoch 4/50\n",
      "44/44 [==============================] - 170s 4s/step - loss: 0.0888 - accuracy: 0.9661 - val_loss: 0.2667 - val_accuracy: 0.9078\n",
      "Epoch 5/50\n",
      "44/44 [==============================] - 170s 4s/step - loss: 0.0589 - accuracy: 0.9834 - val_loss: 0.2123 - val_accuracy: 0.9424\n",
      "Epoch 6/50\n",
      "44/44 [==============================] - 170s 4s/step - loss: 0.0361 - accuracy: 0.9885 - val_loss: 0.1976 - val_accuracy: 0.9193\n",
      "Epoch 7/50\n",
      "44/44 [==============================] - 170s 4s/step - loss: 0.0350 - accuracy: 0.9878 - val_loss: 0.3018 - val_accuracy: 0.9251\n",
      "Epoch 8/50\n",
      "44/44 [==============================] - 170s 4s/step - loss: 0.0168 - accuracy: 0.9964 - val_loss: 0.2554 - val_accuracy: 0.9424\n",
      "Epoch 9/50\n",
      "44/44 [==============================] - 169s 4s/step - loss: 0.0147 - accuracy: 0.9935 - val_loss: 0.3900 - val_accuracy: 0.9308\n",
      "Epoch 10/50\n",
      "44/44 [==============================] - 171s 4s/step - loss: 0.0566 - accuracy: 0.9798 - val_loss: 0.5538 - val_accuracy: 0.8617\n",
      "Epoch 11/50\n",
      "44/44 [==============================] - 172s 4s/step - loss: 0.0815 - accuracy: 0.9712 - val_loss: 0.2345 - val_accuracy: 0.9481\n"
     ]
    }
   ],
   "source": [
    "history = model.fit(\n",
    "    X_train,\n",
    "    y_train,\n",
    "    validation_split=0.2,\n",
    "    batch_size=32,\n",
    "    epochs=50,\n",
    "    callbacks=[\n",
    "        tf.keras.callbacks.EarlyStopping(\n",
    "            monitor='val_loss',\n",
    "            patience=5,\n",
    "            restore_best_weights=True\n",
    "        )\n",
    "    ]\n",
    ")"
   ]
  },
  {
   "cell_type": "code",
   "execution_count": 14,
   "id": "58cfd986",
   "metadata": {
    "execution": {
     "iopub.execute_input": "2023-08-04T15:03:09.869123Z",
     "iopub.status.busy": "2023-08-04T15:03:09.868668Z",
     "iopub.status.idle": "2023-08-04T15:03:39.106297Z",
     "shell.execute_reply": "2023-08-04T15:03:39.105139Z"
    },
    "papermill": {
     "duration": 29.298605,
     "end_time": "2023-08-04T15:03:39.109162",
     "exception": false,
     "start_time": "2023-08-04T15:03:09.810557",
     "status": "completed"
    },
    "tags": []
   },
   "outputs": [
    {
     "name": "stdout",
     "output_type": "stream",
     "text": [
      "Test Accuracy: 95.161%\n"
     ]
    }
   ],
   "source": [
    "model_acc = model.evaluate(X_test, y_test, verbose=0)[1]\n",
    "print(\"Test Accuracy: {:.3f}%\".format(model_acc * 100))"
   ]
  },
  {
   "cell_type": "code",
   "execution_count": 15,
   "id": "a26269dc",
   "metadata": {
    "execution": {
     "iopub.execute_input": "2023-08-04T15:03:39.225030Z",
     "iopub.status.busy": "2023-08-04T15:03:39.224622Z",
     "iopub.status.idle": "2023-08-04T15:04:20.974572Z",
     "shell.execute_reply": "2023-08-04T15:04:20.973425Z"
    },
    "papermill": {
     "duration": 41.811765,
     "end_time": "2023-08-04T15:04:20.977527",
     "exception": false,
     "start_time": "2023-08-04T15:03:39.165762",
     "status": "completed"
    },
    "tags": []
   },
   "outputs": [
    {
     "name": "stdout",
     "output_type": "stream",
     "text": [
      "24/24 [==============================] - 30s 1s/step\n"
     ]
    }
   ],
   "source": [
    "y_pred = np.array(list(map(lambda x: np.argmax(x), model.predict(X_test))))"
   ]
  },
  {
   "cell_type": "code",
   "execution_count": 16,
   "id": "4d47dad3",
   "metadata": {
    "execution": {
     "iopub.execute_input": "2023-08-04T15:04:21.095799Z",
     "iopub.status.busy": "2023-08-04T15:04:21.095343Z",
     "iopub.status.idle": "2023-08-04T15:04:50.231144Z",
     "shell.execute_reply": "2023-08-04T15:04:50.229968Z"
    },
    "papermill": {
     "duration": 29.198862,
     "end_time": "2023-08-04T15:04:50.234855",
     "exception": false,
     "start_time": "2023-08-04T15:04:21.035993",
     "status": "completed"
    },
    "tags": []
   },
   "outputs": [
    {
     "name": "stdout",
     "output_type": "stream",
     "text": [
      "24/24 [==============================] - 29s 1s/step\n"
     ]
    },
    {
     "data": {
      "image/png": "[encoded data removed]",
      "text/plain": [
       "<Figure size 800x800 with 1 Axes>"
      ]
     },
     "metadata": {},
     "output_type": "display_data"
    },
    {
     "name": "stdout",
     "output_type": "stream",
     "text": [
      "Classification Report:\n",
      "----------------------\n",
      "               precision    recall  f1-score   support\n",
      "\n",
      "         0.0       0.97      0.93      0.95       244\n",
      "         1.0       0.92      0.96      0.94       269\n",
      "         2.0       0.98      0.97      0.97       231\n",
      "\n",
      "    accuracy                           0.95       744\n",
      "   macro avg       0.95      0.95      0.95       744\n",
      "weighted avg       0.95      0.95      0.95       744\n",
      "\n"
     ]
    }
   ],
   "source": [
    "y_pred = np.array(list(map(lambda x: np.argmax(x), model.predict(X_test))))\n",
    "\n",
    "cm = confusion_matrix(y_test, y_pred)\n",
    "clr = classification_report(y_test, y_pred, target_names=label_mapping.keys())\n",
    "\n",
    "plt.figure(figsize=(8, 8))\n",
    "sns.heatmap(cm, annot=True, vmin=0, fmt='g', cbar=False, cmap='Blues')\n",
    "plt.xticks(np.arange(3) + 0.5, label_mapping.keys())\n",
    "plt.yticks(np.arange(3) + 0.5, label_mapping.keys())\n",
    "plt.xlabel(\"Predicted\")\n",
    "plt.ylabel(\"Actual\")\n",
    "plt.title(\"Confusion Matrix\")\n",
    "plt.show()\n",
    "\n",
    "print(\"Classification Report:\\n----------------------\\n\", clr)"
   ]
  },
  {
   "cell_type": "code",
   "execution_count": null,
   "id": "61900c7b",
   "metadata": {
    "papermill": {
     "duration": 0.060685,
     "end_time": "2023-08-04T15:04:50.356024",
     "exception": false,
     "start_time": "2023-08-04T15:04:50.295339",
     "status": "completed"
    },
    "tags": []
   },
   "outputs": [],
   "source": []
  }
 ],
 "metadata": {
  "kernelspec": {
   "display_name": "Python 3",
   "language": "python",
   "name": "python3"
  },
  "language_info": {
   "codemirror_mode": {
    "name": "ipython",
    "version": 3
   },
   "file_extension": ".py",
   "mimetype": "text/x-python",
   "name": "python",
   "nbconvert_exporter": "python",
   "pygments_lexer": "ipython3",
   "version": "3.7.12"
  },
  "papermill": {
   "default_parameters": {},
   "duration": 2014.904463,
   "end_time": "2023-08-04T15:04:53.547786",
   "environment_variables": {},
   "exception": null,
   "input_path": "__notebook__.ipynb",
   "output_path": "__notebook__.ipynb",
   "parameters": {},
   "start_time": "2023-08-04T14:31:18.643323",
   "version": "2.3.4"
  }
 },
 "nbformat": 4,
 "nbformat_minor": 5
}
